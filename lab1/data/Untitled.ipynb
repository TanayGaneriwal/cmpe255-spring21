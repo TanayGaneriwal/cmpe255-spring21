{
 "cells": [
  {
   "cell_type": "code",
   "execution_count": 2,
   "metadata": {},
   "outputs": [],
   "source": [
    "import pandas as pd"
   ]
  },
  {
   "cell_type": "code",
   "execution_count": 3,
   "metadata": {},
   "outputs": [],
   "source": [
    "chipo = pd.read_csv('chipotle.tsv', sep='\\t')"
   ]
  },
  {
   "cell_type": "code",
   "execution_count": 4,
   "metadata": {},
   "outputs": [
    {
     "name": "stdout",
     "output_type": "stream",
     "text": [
      "<bound method NDFrame.head of       order_id  quantity                              item_name  \\\n",
      "0            1         1           Chips and Fresh Tomato Salsa   \n",
      "1            1         1                                   Izze   \n",
      "2            1         1                       Nantucket Nectar   \n",
      "3            1         1  Chips and Tomatillo-Green Chili Salsa   \n",
      "4            2         2                           Chicken Bowl   \n",
      "...        ...       ...                                    ...   \n",
      "4617      1833         1                          Steak Burrito   \n",
      "4618      1833         1                          Steak Burrito   \n",
      "4619      1834         1                     Chicken Salad Bowl   \n",
      "4620      1834         1                     Chicken Salad Bowl   \n",
      "4621      1834         1                     Chicken Salad Bowl   \n",
      "\n",
      "                                     choice_description item_price  \n",
      "0                                                   NaN     $2.39   \n",
      "1                                          [Clementine]     $3.39   \n",
      "2                                               [Apple]     $3.39   \n",
      "3                                                   NaN     $2.39   \n",
      "4     [Tomatillo-Red Chili Salsa (Hot), [Black Beans...    $16.98   \n",
      "...                                                 ...        ...  \n",
      "4617  [Fresh Tomato Salsa, [Rice, Black Beans, Sour ...    $11.75   \n",
      "4618  [Fresh Tomato Salsa, [Rice, Sour Cream, Cheese...    $11.75   \n",
      "4619  [Fresh Tomato Salsa, [Fajita Vegetables, Pinto...    $11.25   \n",
      "4620  [Fresh Tomato Salsa, [Fajita Vegetables, Lettu...     $8.75   \n",
      "4621  [Fresh Tomato Salsa, [Fajita Vegetables, Pinto...     $8.75   \n",
      "\n",
      "[4622 rows x 5 columns]>\n"
     ]
    }
   ],
   "source": [
    "print(chipo.head)"
   ]
  },
  {
   "cell_type": "code",
   "execution_count": 12,
   "metadata": {},
   "outputs": [
    {
     "name": "stdout",
     "output_type": "stream",
     "text": [
      "                                    index    0\n",
      "0            Chips and Fresh Tomato Salsa  110\n",
      "1                                    Izze   20\n",
      "2                        Nantucket Nectar   27\n",
      "3   Chips and Tomatillo-Green Chili Salsa   31\n",
      "4                            Chicken Bowl  726\n",
      "5                           Side of Chips  101\n",
      "6                           Steak Burrito  368\n",
      "7                        Steak Soft Tacos   55\n",
      "8                     Chips and Guacamole  479\n",
      "9                    Chicken Crispy Tacos   47\n",
      "10                     Chicken Soft Tacos  115\n",
      "11                        Chicken Burrito  553\n",
      "12                            Canned Soda  104\n",
      "13                       Barbacoa Burrito   91\n",
      "14                       Carnitas Burrito   59\n",
      "15                          Carnitas Bowl   68\n",
      "16                          Bottled Water  162\n",
      "17  Chips and Tomatillo Green Chili Salsa   43\n",
      "18                          Barbacoa Bowl   66\n",
      "19                                  Chips  211\n",
      "20                     Chicken Salad Bowl  110\n",
      "21                             Steak Bowl  211\n",
      "22                    Barbacoa Soft Tacos   25\n",
      "23                         Veggie Burrito   95\n",
      "24                            Veggie Bowl   85\n",
      "25                     Steak Crispy Tacos   35\n",
      "26    Chips and Tomatillo Red Chili Salsa   48\n",
      "27                  Barbacoa Crispy Tacos   11\n",
      "28                      Veggie Salad Bowl   18\n",
      "29     Chips and Roasted Chili-Corn Salsa   18\n",
      "30     Chips and Roasted Chili Corn Salsa   22\n",
      "31                    Carnitas Soft Tacos   40\n",
      "32                          Chicken Salad    9\n",
      "33                      Canned Soft Drink  301\n",
      "34                       Steak Salad Bowl   29\n",
      "35                      6 Pack Soft Drink   54\n",
      "36    Chips and Tomatillo-Red Chili Salsa   20\n",
      "37                                   Bowl    2\n",
      "38                                Burrito    6\n",
      "39                           Crispy Tacos    2\n",
      "40                  Carnitas Crispy Tacos    7\n",
      "41                            Steak Salad    4\n",
      "42      Chips and Mild Fresh Tomato Salsa    1\n",
      "43                      Veggie Soft Tacos    7\n",
      "44                    Carnitas Salad Bowl    6\n",
      "45                    Barbacoa Salad Bowl   10\n",
      "46                                  Salad    2\n",
      "47                    Veggie Crispy Tacos    1\n",
      "48                           Veggie Salad    6\n",
      "49                         Carnitas Salad    1\n"
     ]
    }
   ],
   "source": [
    "        from collections import Counter\n",
    "        letter_counter = Counter(chipo.item_name)\n",
    "        # TODO\n",
    "        # 1. convert the dictionary to a DataFrame\n",
    "        df = pd.DataFrame.from_dict(letter_counter,orient='index').reset_index()\n",
    "        # 2. sort the values from the top to the least value and slice the first 5 items\n",
    "        #df = df.rename(columns = {'index' : 'item_name', 0 :'quantity'})\n",
    "        print(df)"
   ]
  },
  {
   "cell_type": "code",
   "execution_count": 13,
   "metadata": {},
   "outputs": [
    {
     "data": {
      "text/html": [
       "<div>\n",
       "<style scoped>\n",
       "    .dataframe tbody tr th:only-of-type {\n",
       "        vertical-align: middle;\n",
       "    }\n",
       "\n",
       "    .dataframe tbody tr th {\n",
       "        vertical-align: top;\n",
       "    }\n",
       "\n",
       "    .dataframe thead th {\n",
       "        text-align: right;\n",
       "    }\n",
       "</style>\n",
       "<table border=\"1\" class=\"dataframe\">\n",
       "  <thead>\n",
       "    <tr style=\"text-align: right;\">\n",
       "      <th></th>\n",
       "      <th>quantity</th>\n",
       "    </tr>\n",
       "    <tr>\n",
       "      <th>order_id</th>\n",
       "      <th></th>\n",
       "    </tr>\n",
       "  </thead>\n",
       "  <tbody>\n",
       "    <tr>\n",
       "      <th>1</th>\n",
       "      <td>4</td>\n",
       "    </tr>\n",
       "    <tr>\n",
       "      <th>2</th>\n",
       "      <td>2</td>\n",
       "    </tr>\n",
       "    <tr>\n",
       "      <th>3</th>\n",
       "      <td>2</td>\n",
       "    </tr>\n",
       "    <tr>\n",
       "      <th>4</th>\n",
       "      <td>2</td>\n",
       "    </tr>\n",
       "    <tr>\n",
       "      <th>5</th>\n",
       "      <td>2</td>\n",
       "    </tr>\n",
       "    <tr>\n",
       "      <th>...</th>\n",
       "      <td>...</td>\n",
       "    </tr>\n",
       "    <tr>\n",
       "      <th>1830</th>\n",
       "      <td>2</td>\n",
       "    </tr>\n",
       "    <tr>\n",
       "      <th>1831</th>\n",
       "      <td>3</td>\n",
       "    </tr>\n",
       "    <tr>\n",
       "      <th>1832</th>\n",
       "      <td>2</td>\n",
       "    </tr>\n",
       "    <tr>\n",
       "      <th>1833</th>\n",
       "      <td>2</td>\n",
       "    </tr>\n",
       "    <tr>\n",
       "      <th>1834</th>\n",
       "      <td>3</td>\n",
       "    </tr>\n",
       "  </tbody>\n",
       "</table>\n",
       "<p>1834 rows × 1 columns</p>\n",
       "</div>"
      ],
      "text/plain": [
       "          quantity\n",
       "order_id          \n",
       "1                4\n",
       "2                2\n",
       "3                2\n",
       "4                2\n",
       "5                2\n",
       "...            ...\n",
       "1830             2\n",
       "1831             3\n",
       "1832             2\n",
       "1833             2\n",
       "1834             3\n",
       "\n",
       "[1834 rows x 1 columns]"
      ]
     },
     "execution_count": 13,
     "metadata": {},
     "output_type": "execute_result"
    }
   ],
   "source": [
    "df =chipo.groupby(['order_id']).sum()\n",
    "df\n"
   ]
  },
  {
   "cell_type": "code",
   "execution_count": null,
   "metadata": {},
   "outputs": [],
   "source": []
  }
 ],
 "metadata": {
  "kernelspec": {
   "display_name": "Python 3",
   "language": "python",
   "name": "python3"
  },
  "language_info": {
   "codemirror_mode": {
    "name": "ipython",
    "version": 3
   },
   "file_extension": ".py",
   "mimetype": "text/x-python",
   "name": "python",
   "nbconvert_exporter": "python",
   "pygments_lexer": "ipython3",
   "version": "3.8.5"
  }
 },
 "nbformat": 4,
 "nbformat_minor": 4
}
