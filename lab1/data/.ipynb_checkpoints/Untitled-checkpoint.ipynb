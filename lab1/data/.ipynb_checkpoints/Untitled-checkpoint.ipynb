{
 "cells": [
  {
   "cell_type": "code",
   "execution_count": 3,
   "metadata": {},
   "outputs": [],
   "source": [
    "import pandas as pd"
   ]
  },
  {
   "cell_type": "code",
   "execution_count": 4,
   "metadata": {},
   "outputs": [
    {
     "ename": "NameError",
     "evalue": "name 'letter_counter' is not defined",
     "output_type": "error",
     "traceback": [
      "\u001b[0;31m---------------------------------------------------------------------------\u001b[0m",
      "\u001b[0;31mNameError\u001b[0m                                 Traceback (most recent call last)",
      "\u001b[0;32m<ipython-input-4-25bb460178d0>\u001b[0m in \u001b[0;36m<module>\u001b[0;34m\u001b[0m\n\u001b[1;32m      1\u001b[0m \u001b[0mchipo\u001b[0m \u001b[0;34m=\u001b[0m \u001b[0mpd\u001b[0m\u001b[0;34m.\u001b[0m\u001b[0mread_csv\u001b[0m\u001b[0;34m(\u001b[0m\u001b[0;34m'chipotle.tsv'\u001b[0m\u001b[0;34m,\u001b[0m \u001b[0msep\u001b[0m\u001b[0;34m=\u001b[0m\u001b[0;34m'\\t'\u001b[0m\u001b[0;34m)\u001b[0m\u001b[0;34m\u001b[0m\u001b[0;34m\u001b[0m\u001b[0m\n\u001b[0;32m----> 2\u001b[0;31m \u001b[0mdata_frame\u001b[0m\u001b[0;34m=\u001b[0m \u001b[0mpd\u001b[0m\u001b[0;34m.\u001b[0m\u001b[0mDataFrame\u001b[0m\u001b[0;34m.\u001b[0m\u001b[0mfrom_dict\u001b[0m\u001b[0;34m(\u001b[0m\u001b[0mletter_counter\u001b[0m\u001b[0;34m,\u001b[0m\u001b[0morient\u001b[0m\u001b[0;34m=\u001b[0m\u001b[0;34m'index'\u001b[0m\u001b[0;34m)\u001b[0m\u001b[0;34m.\u001b[0m\u001b[0mreset_index\u001b[0m\u001b[0;34m(\u001b[0m\u001b[0;34m)\u001b[0m\u001b[0;34m\u001b[0m\u001b[0;34m\u001b[0m\u001b[0m\n\u001b[0m",
      "\u001b[0;31mNameError\u001b[0m: name 'letter_counter' is not defined"
     ]
    }
   ],
   "source": [
    "chipo = pd.read_csv('chipotle.tsv', sep='\\t')\n",
    "from collections import Counter\n",
    "letter_counter = Counter(self.chipo.item_name)\n",
    "        # TODO\n",
    "        # 1. convert the dictionary to a DataFrame\n",
    "data_frame= pd.DataFrame.from_dict(letter_counter,orient='index').reset_index()"
   ]
  },
  {
   "cell_type": "code",
   "execution_count": 1,
   "metadata": {},
   "outputs": [
    {
     "ename": "NameError",
     "evalue": "name 'data_frame' is not defined",
     "output_type": "error",
     "traceback": [
      "\u001b[0;31m---------------------------------------------------------------------------\u001b[0m",
      "\u001b[0;31mNameError\u001b[0m                                 Traceback (most recent call last)",
      "\u001b[0;32m<ipython-input-1-23a53aa0557d>\u001b[0m in \u001b[0;36m<module>\u001b[0;34m\u001b[0m\n\u001b[0;32m----> 1\u001b[0;31m \u001b[0mprint\u001b[0m\u001b[0;34m(\u001b[0m\u001b[0mdata_frame\u001b[0m\u001b[0;34m)\u001b[0m\u001b[0;34m\u001b[0m\u001b[0;34m\u001b[0m\u001b[0m\n\u001b[0m",
      "\u001b[0;31mNameError\u001b[0m: name 'data_frame' is not defined"
     ]
    }
   ],
   "source": [
    "print(data_frame)"
   ]
  },
  {
   "cell_type": "code",
   "execution_count": 12,
   "metadata": {},
   "outputs": [
    {
     "name": "stdout",
     "output_type": "stream",
     "text": [
      "                                    index    0\n",
      "0            Chips and Fresh Tomato Salsa  110\n",
      "1                                    Izze   20\n",
      "2                        Nantucket Nectar   27\n",
      "3   Chips and Tomatillo-Green Chili Salsa   31\n",
      "4                            Chicken Bowl  726\n",
      "5                           Side of Chips  101\n",
      "6                           Steak Burrito  368\n",
      "7                        Steak Soft Tacos   55\n",
      "8                     Chips and Guacamole  479\n",
      "9                    Chicken Crispy Tacos   47\n",
      "10                     Chicken Soft Tacos  115\n",
      "11                        Chicken Burrito  553\n",
      "12                            Canned Soda  104\n",
      "13                       Barbacoa Burrito   91\n",
      "14                       Carnitas Burrito   59\n",
      "15                          Carnitas Bowl   68\n",
      "16                          Bottled Water  162\n",
      "17  Chips and Tomatillo Green Chili Salsa   43\n",
      "18                          Barbacoa Bowl   66\n",
      "19                                  Chips  211\n",
      "20                     Chicken Salad Bowl  110\n",
      "21                             Steak Bowl  211\n",
      "22                    Barbacoa Soft Tacos   25\n",
      "23                         Veggie Burrito   95\n",
      "24                            Veggie Bowl   85\n",
      "25                     Steak Crispy Tacos   35\n",
      "26    Chips and Tomatillo Red Chili Salsa   48\n",
      "27                  Barbacoa Crispy Tacos   11\n",
      "28                      Veggie Salad Bowl   18\n",
      "29     Chips and Roasted Chili-Corn Salsa   18\n",
      "30     Chips and Roasted Chili Corn Salsa   22\n",
      "31                    Carnitas Soft Tacos   40\n",
      "32                          Chicken Salad    9\n",
      "33                      Canned Soft Drink  301\n",
      "34                       Steak Salad Bowl   29\n",
      "35                      6 Pack Soft Drink   54\n",
      "36    Chips and Tomatillo-Red Chili Salsa   20\n",
      "37                                   Bowl    2\n",
      "38                                Burrito    6\n",
      "39                           Crispy Tacos    2\n",
      "40                  Carnitas Crispy Tacos    7\n",
      "41                            Steak Salad    4\n",
      "42      Chips and Mild Fresh Tomato Salsa    1\n",
      "43                      Veggie Soft Tacos    7\n",
      "44                    Carnitas Salad Bowl    6\n",
      "45                    Barbacoa Salad Bowl   10\n",
      "46                                  Salad    2\n",
      "47                    Veggie Crispy Tacos    1\n",
      "48                           Veggie Salad    6\n",
      "49                         Carnitas Salad    1\n"
     ]
    }
   ],
   "source": [
    "        from collections import Counter\n",
    "        letter_counter = Counter(chipo.item_name)\n",
    "        # TODO\n",
    "        # 1. convert the dictionary to a DataFrame\n",
    "        df = pd.DataFrame.from_dict(letter_counter,orient='index').reset_index()\n",
    "        # 2. sort the values from the top to the least value and slice the first 5 items\n",
    "        #df = df.rename(columns = {'index' : 'item_name', 0 :'quantity'})\n",
    "        print(df)"
   ]
  },
  {
   "cell_type": "code",
   "execution_count": 13,
   "metadata": {},
   "outputs": [
    {
     "data": {
      "text/html": [
       "<div>\n",
       "<style scoped>\n",
       "    .dataframe tbody tr th:only-of-type {\n",
       "        vertical-align: middle;\n",
       "    }\n",
       "\n",
       "    .dataframe tbody tr th {\n",
       "        vertical-align: top;\n",
       "    }\n",
       "\n",
       "    .dataframe thead th {\n",
       "        text-align: right;\n",
       "    }\n",
       "</style>\n",
       "<table border=\"1\" class=\"dataframe\">\n",
       "  <thead>\n",
       "    <tr style=\"text-align: right;\">\n",
       "      <th></th>\n",
       "      <th>quantity</th>\n",
       "    </tr>\n",
       "    <tr>\n",
       "      <th>order_id</th>\n",
       "      <th></th>\n",
       "    </tr>\n",
       "  </thead>\n",
       "  <tbody>\n",
       "    <tr>\n",
       "      <th>1</th>\n",
       "      <td>4</td>\n",
       "    </tr>\n",
       "    <tr>\n",
       "      <th>2</th>\n",
       "      <td>2</td>\n",
       "    </tr>\n",
       "    <tr>\n",
       "      <th>3</th>\n",
       "      <td>2</td>\n",
       "    </tr>\n",
       "    <tr>\n",
       "      <th>4</th>\n",
       "      <td>2</td>\n",
       "    </tr>\n",
       "    <tr>\n",
       "      <th>5</th>\n",
       "      <td>2</td>\n",
       "    </tr>\n",
       "    <tr>\n",
       "      <th>...</th>\n",
       "      <td>...</td>\n",
       "    </tr>\n",
       "    <tr>\n",
       "      <th>1830</th>\n",
       "      <td>2</td>\n",
       "    </tr>\n",
       "    <tr>\n",
       "      <th>1831</th>\n",
       "      <td>3</td>\n",
       "    </tr>\n",
       "    <tr>\n",
       "      <th>1832</th>\n",
       "      <td>2</td>\n",
       "    </tr>\n",
       "    <tr>\n",
       "      <th>1833</th>\n",
       "      <td>2</td>\n",
       "    </tr>\n",
       "    <tr>\n",
       "      <th>1834</th>\n",
       "      <td>3</td>\n",
       "    </tr>\n",
       "  </tbody>\n",
       "</table>\n",
       "<p>1834 rows × 1 columns</p>\n",
       "</div>"
      ],
      "text/plain": [
       "          quantity\n",
       "order_id          \n",
       "1                4\n",
       "2                2\n",
       "3                2\n",
       "4                2\n",
       "5                2\n",
       "...            ...\n",
       "1830             2\n",
       "1831             3\n",
       "1832             2\n",
       "1833             2\n",
       "1834             3\n",
       "\n",
       "[1834 rows x 1 columns]"
      ]
     },
     "execution_count": 13,
     "metadata": {},
     "output_type": "execute_result"
    }
   ],
   "source": [
    "df =chipo.groupby(['order_id']).sum()\n",
    "df\n"
   ]
  },
  {
   "cell_type": "code",
   "execution_count": null,
   "metadata": {},
   "outputs": [],
   "source": []
  }
 ],
 "metadata": {
  "kernelspec": {
   "display_name": "Python 3",
   "language": "python",
   "name": "python3"
  },
  "language_info": {
   "codemirror_mode": {
    "name": "ipython",
    "version": 3
   },
   "file_extension": ".py",
   "mimetype": "text/x-python",
   "name": "python",
   "nbconvert_exporter": "python",
   "pygments_lexer": "ipython3",
   "version": "3.8.5"
  }
 },
 "nbformat": 4,
 "nbformat_minor": 4
}
